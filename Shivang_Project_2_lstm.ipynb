{
  "nbformat": 4,
  "nbformat_minor": 0,
  "metadata": {
    "colab": {
      "provenance": [],
      "include_colab_link": true
    },
    "kernelspec": {
      "name": "python3",
      "display_name": "Python 3"
    },
    "language_info": {
      "name": "python"
    }
  },
  "cells": [
    {
      "cell_type": "markdown",
      "metadata": {
        "id": "view-in-github",
        "colab_type": "text"
      },
      "source": [
        "<a href=\"https://colab.research.google.com/github/shivang-niranjan/Hyperspectral-imaging/blob/main/Shivang_Project_2_lstm.ipynb\" target=\"_parent\"><img src=\"https://colab.research.google.com/assets/colab-badge.svg\" alt=\"Open In Colab\"/></a>"
      ]
    },
    {
      "cell_type": "code",
      "source": [
        "import numpy as np\n",
        "import pandas as pd\n",
        "from sklearn.model_selection import train_test_split\n",
        "from sklearn.preprocessing import LabelEncoder\n",
        "from tensorflow.keras.preprocessing.text import Tokenizer\n",
        "from tensorflow.keras.preprocessing.sequence import pad_sequences\n",
        "from tensorflow.keras.models import Sequential\n",
        "from tensorflow.keras.layers import Embedding, LSTM, Dense, Dropout\n",
        "from tensorflow.keras.optimizers import Adam\n",
        "\n",
        "# Load your dataset with error handling\n",
        "df = pd.read_csv('/content/news.csv', on_bad_lines='skip')\n",
        "df = df[['text', 'label']]  # Ensure you have 'text' and 'label' columns\n",
        "\n",
        "# Check for missing values\n",
        "print(\"Missing values:\", df.isnull().sum())\n",
        "\n",
        "# Drop missing values if any\n",
        "df.dropna(inplace=True)\n",
        "\n",
        "# Preprocess labels\n",
        "le = LabelEncoder()\n",
        "df['label'] = le.fit_transform(df['label'])\n",
        "\n",
        "# Split data\n",
        "X_train, X_test, y_train, y_test = train_test_split(df['text'], df['label'], test_size=0.2, random_state=42)\n",
        "\n",
        "# Tokenize text\n",
        "tokenizer = Tokenizer(num_words=5000)\n",
        "tokenizer.fit_on_texts(X_train)\n",
        "X_train = tokenizer.texts_to_sequences(X_train)\n",
        "X_test = tokenizer.texts_to_sequences(X_test)\n",
        "\n",
        "# Pad sequences\n",
        "maxlen = 100  # Maximum length of a sequence\n",
        "X_train = pad_sequences(X_train, padding='post', maxlen=maxlen)\n",
        "X_test = pad_sequences(X_test, padding='post', maxlen=maxlen)\n",
        "\n",
        "# Build the model\n",
        "model = Sequential()\n",
        "model.add(Embedding(input_dim=5000, output_dim=128, input_length=maxlen))\n",
        "model.add(LSTM(128, return_sequences=False))\n",
        "model.add(Dropout(0.5))\n",
        "model.add(Dense(1, activation='sigmoid'))\n",
        "\n",
        "# Compile the model\n",
        "model.compile(loss='binary_crossentropy', optimizer=Adam(learning_rate=0.001), metrics=['accuracy'])\n",
        "\n",
        "# Train the model\n",
        "history = model.fit(X_train, y_train, epochs=5, batch_size=64, validation_data=(X_test, y_test), verbose=1)\n",
        "\n",
        "# Evaluate the model\n",
        "loss, accuracy = model.evaluate(X_test, y_test, verbose=1)\n",
        "print(f'Test Accuracy: {accuracy*100:.2f}%')\n"
      ],
      "metadata": {
        "colab": {
          "base_uri": "https://localhost:8080/"
        },
        "id": "jAj0hYNwz8iE",
        "outputId": "5b12dea5-47e6-4fdf-cc5b-2b9a67047312"
      },
      "execution_count": null,
      "outputs": [
        {
          "output_type": "stream",
          "name": "stdout",
          "text": [
            "Missing values: text     0\n",
            "label    0\n",
            "dtype: int64\n",
            "Epoch 1/5\n",
            "80/80 [==============================] - 27s 302ms/step - loss: 0.6271 - accuracy: 0.6433 - val_loss: 0.4541 - val_accuracy: 0.8003\n",
            "Epoch 2/5\n",
            "80/80 [==============================] - 26s 331ms/step - loss: 0.3045 - accuracy: 0.8721 - val_loss: 0.3589 - val_accuracy: 0.8445\n",
            "Epoch 3/5\n",
            "80/80 [==============================] - 23s 288ms/step - loss: 0.1823 - accuracy: 0.9455 - val_loss: 0.4966 - val_accuracy: 0.8145\n",
            "Epoch 4/5\n",
            "80/80 [==============================] - 24s 299ms/step - loss: 0.2175 - accuracy: 0.9298 - val_loss: 0.4684 - val_accuracy: 0.8493\n",
            "Epoch 5/5\n",
            "80/80 [==============================] - 24s 297ms/step - loss: 0.1105 - accuracy: 0.9645 - val_loss: 0.4499 - val_accuracy: 0.8556\n",
            "40/40 [==============================] - 4s 101ms/step - loss: 0.4499 - accuracy: 0.8556\n",
            "Test Accuracy: 85.56%\n"
          ]
        }
      ]
    }
  ]
}